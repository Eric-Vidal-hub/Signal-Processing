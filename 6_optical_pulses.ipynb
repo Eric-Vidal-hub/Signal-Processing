{
 "cells": [
  {
   "cell_type": "markdown",
   "metadata": {},
   "source": [
    "## 5 Optical pulses\n",
    "\n",
    "### 5.1 Model a laser pulse\n",
    "\n",
    "Product of very fast oscillation $(\\omega_0\\sim 100 \\; \\text{THz})$ with a Gaussian curve $(\\sigma \\sim 1 \\; \\text{ps})$.\n",
    "\n",
    "Create **time vector** going from −50ps to 50ps, and laser representation pulse.\n",
    "\n",
    "We will use an oscillating frequency of 10 THz in order to not saturate the memory of the computer."
   ]
  },
  {
   "cell_type": "code",
   "execution_count": null,
   "metadata": {},
   "outputs": [],
   "source": []
  }
 ],
 "metadata": {
  "language_info": {
   "name": "python"
  }
 },
 "nbformat": 4,
 "nbformat_minor": 2
}
