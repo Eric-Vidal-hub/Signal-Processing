{
 "cells": [
  {
   "cell_type": "markdown",
   "metadata": {},
   "source": [
    "# Spectograms\n",
    "The studied samples do not rely with a piano, a flute, a violin or a trumpet.\n",
    "\n",
    "### 2.9 Propose an explanation for why the previous samples do not sound natural\n",
    "\n",
    "It is just a period of a note, so we can not determine its frequence accurately.\n",
    "\n",
    "### 2.10 Load, find frequency and play the sound\n",
    "The files `PianoLa.wav` (Note that this one is `.wav`, it is not a typo), `TrumpetLa.aif`, `ViolinLa.aif` and `FluteLa.aif` correspond to the full recording of the sounds from which the previous period samples have been taken."
   ]
  },
  {
   "cell_type": "code",
   "execution_count": null,
   "metadata": {},
   "outputs": [],
   "source": [
    "# Import necessary libraries\n",
    "import numpy as np\n",
    "import soundfile as sf\n",
    "import matplotlib.pyplot as plt\n",
    "import sounddevice as sd\n",
    "\n",
    "# List of necessary files to load\n",
    "files = ['./TDSound/PianoLa.wav',\n",
    "         './TDSound/FluteLa.aif',\n",
    "         './TDSound/ViolinLa.aif',\n",
    "         './TDSound/TrumpetLa.aif']\n",
    "\n",
    "# Store sampling frequency as a float\n",
    "# and amplitudes as an array of each file in:\n",
    "frequencies = [0] * len(files)\n",
    "amplitudes = [0] * len(files)\n",
    "\n",
    "# For each file, store the sampling frequency and the amplitudes\n",
    "for i in range(len(files)):\n",
    "    amplitudes[i], frequencies[i] = sf.read(files[i], dtype='float32')   # It loads files and extracts info\n",
    "\n",
    "# There are 2 channels of sound, we separate them\n",
    "ch1_amplitudes = [0] * len(files)\n",
    "ch2_amplitudes = [0] * len(files)\n",
    "for i in range(len(files)):\n",
    "    ch1_amplitudes[i] = [amplitudes[i][j][0] for j in range(len(amplitudes[i]))]\n",
    "    ch2_amplitudes[i] = [amplitudes[i][j][1] for j in range(len(amplitudes[i]))]\n",
    "\n",
    "# Plot the amplitudes of each file, for ensuring everything is ok\n",
    "instruments = []    # List of instruments\n",
    "for i in range(len(files)):\n",
    "    file = files[i]\n",
    "    instruments.append(file[10:-4])\n",
    "    print('Sampling frequency of', instruments[i], 'file:', frequencies[i])"
   ]
  },
  {
   "cell_type": "markdown",
   "metadata": {},
   "source": [
    "#### Is the sound closer to what you expect?"
   ]
  },
  {
   "cell_type": "code",
   "execution_count": null,
   "metadata": {},
   "outputs": [],
   "source": [
    "playing = np.repeat(np.asarray(amplitudes), 1000, axis=1)\n",
    "for i in range(len(amplitudes)):\n",
    "    sd.play(playing[i, :], frequencies[i])\n",
    "    status = sd.wait()"
   ]
  }
 ],
 "metadata": {
  "language_info": {
   "name": "python"
  }
 },
 "nbformat": 4,
 "nbformat_minor": 2
}
