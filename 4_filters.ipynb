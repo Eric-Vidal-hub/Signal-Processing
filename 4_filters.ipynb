{
 "cells": [
  {
   "cell_type": "markdown",
   "metadata": {},
   "source": [
    "## Filters\n",
    "\n",
    "### 3.4 Load and represent image\n",
    "\n",
    "Load the image `LymphocyteGray.jpg` with the imread command. Plot this image as well as its amplitude and phase spectra. In order to better visualize the low amplitude spectral components, you can use a **dB** scale. Discuss the graphs."
   ]
  },
  {
   "cell_type": "code",
   "execution_count": null,
   "metadata": {},
   "outputs": [],
   "source": []
  }
 ],
 "metadata": {
  "language_info": {
   "name": "python"
  }
 },
 "nbformat": 4,
 "nbformat_minor": 2
}
